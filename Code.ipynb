{
 "cells": [
  {
   "cell_type": "markdown",
   "metadata": {},
   "source": [
    "Questions:\n",
    "• Can you analyze the measurement data and give advice on which IPC’s could be downsized?\n",
    "• Describe the steps that you have taken to get to the advice (please mention which data you have included and why).\n",
    "• Do a general check on the data and outline where you see strange activity (and why).\n",
    "• What else would be needed to run such an analysis continuously across all IPCs?"
   ]
  },
  {
   "cell_type": "code",
   "execution_count": 1,
   "metadata": {},
   "outputs": [],
   "source": [
    "# Import all the packages needed\n",
    "\n",
    "import csv\n",
    "import pandas as pd\n"
   ]
  },
  {
   "cell_type": "code",
   "execution_count": null,
   "metadata": {},
   "outputs": [],
   "source": [
    "# Specify the path to the CSV file\n",
    "csv_path_file = \"C:/Users/User/Desktop/Itility Test Case/dataset.csv\"\n",
    "\n",
    "# Read the CSV file uing a pandas DataFrame\n",
    "df = pd.read_csv(csv_path_file)\n",
    "\n",
    "# print the DataFrame for information\n",
    "print(df)"
   ]
  },
  {
   "cell_type": "code",
   "execution_count": null,
   "metadata": {},
   "outputs": [],
   "source": [
    "# Initialize an empty list to store the data\n",
    "data = []\n",
    "\n",
    "# Open the CSV file and read its contents using DictReader\n",
    "with open(csv_path_file, 'r') as csv_file:\n",
    "    csv_reader = csv.DictReader(csv_file)\n",
    "    \n",
    "    # Loop through each row in the CSV and append it to the data list\n",
    "    for row in csv_reader:\n",
    "        data.append(row)\n",
    "\n",
    "# Print the data\n",
    "for row in data:\n",
    "    print(row)"
   ]
  },
  {
   "cell_type": "code",
   "execution_count": null,
   "metadata": {},
   "outputs": [],
   "source": [
    "# Accessing a specific column by its header name\n",
    "column_data = df['IPC']\n",
    "print(column_data)"
   ]
  },
  {
   "cell_type": "code",
   "execution_count": 4,
   "metadata": {},
   "outputs": [
    {
     "name": "stdout",
     "output_type": "stream",
     "text": [
      "Number of distinct IPC values: 4261\n"
     ]
    }
   ],
   "source": [
    "# Count the number of distinct values in the specified column\n",
    "distinct_ipc_values = df['IPC'].nunique()\n",
    "\n",
    "# Print the number of distinct values in the column\n",
    "print(\"Number of distinct IPC values:\", distinct_ipc_values)"
   ]
  },
  {
   "cell_type": "code",
   "execution_count": 8,
   "metadata": {},
   "outputs": [
    {
     "name": "stdout",
     "output_type": "stream",
     "text": [
      "The number of duplicated rows is Empty DataFrame\n",
      "Columns: [IPC, Data Factory, time, AvgValue, MinValue, MaxValue, MetricId, MemoryMB, CpuMHz, NumCpu, Unnamed: 10, Unnamed: 11, Unnamed: 12]\n",
      "Index: []\n"
     ]
    }
   ],
   "source": [
    "# Check if there are any duplicate entries\n",
    "dup_rows = df[df.duplicated()]\n",
    "print(\"The number of duplicated rows is\", dup_rows)"
   ]
  }
 ],
 "metadata": {
  "kernelspec": {
   "display_name": "Python 3",
   "language": "python",
   "name": "python3"
  },
  "language_info": {
   "codemirror_mode": {
    "name": "ipython",
    "version": 3
   },
   "file_extension": ".py",
   "mimetype": "text/x-python",
   "name": "python",
   "nbconvert_exporter": "python",
   "pygments_lexer": "ipython3",
   "version": "3.10.7"
  },
  "orig_nbformat": 4
 },
 "nbformat": 4,
 "nbformat_minor": 2
}
