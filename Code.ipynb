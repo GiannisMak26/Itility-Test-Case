{
 "cells": [
  {
   "cell_type": "markdown",
   "metadata": {},
   "source": [
    "Itility Assignment Yiannis Makantasis\n",
    "\n",
    "Questions:\n",
    "\n",
    "• Can you analyze the measurement data and give advice on which IPC’s could be downsized?\n",
    "\n",
    "• Describe the steps that you have taken to get to the advice (please mention which data you have included and why).\n",
    "\n",
    "• Do a general check on the data and outline where you see strange activity (and why).\n",
    "\n",
    "• What else would be needed to run such an analysis continuously across all IPCs?"
   ]
  },
  {
   "cell_type": "code",
   "execution_count": null,
   "metadata": {},
   "outputs": [],
   "source": [
    "# Import all the packages needed\n",
    "\n",
    "import pandas as pd\n",
    "import numpy as np\n",
    "import matplotlib.pyplot as plt\n",
    "import seaborn as sns"
   ]
  },
  {
   "cell_type": "code",
   "execution_count": null,
   "metadata": {},
   "outputs": [],
   "source": [
    "# Specify the path to the CSV file\n",
    "csv_path_file = \"C:/Users/User/Desktop/Itility Test Case/new_dataset.csv\"\n",
    "\n",
    "# Read the CSV file uing a pandas DataFrame\n",
    "data = pd.read_csv(csv_path_file)\n",
    "\n",
    "# print the DataFrame for information\n",
    "# print(df)"
   ]
  },
  {
   "cell_type": "code",
   "execution_count": null,
   "metadata": {},
   "outputs": [],
   "source": [
    "# Count the number of distinct values in the specified column\n",
    "distinct_ipc_values = data['IPC'].nunique()\n",
    "\n",
    "# Print the number of distinct values in the column\n",
    "print(\"Number of distinct IPC values:\", distinct_ipc_values)"
   ]
  },
  {
   "cell_type": "code",
   "execution_count": null,
   "metadata": {},
   "outputs": [],
   "source": [
    "# Print general information regarding the DataFrame\n",
    "data.info()"
   ]
  },
  {
   "cell_type": "code",
   "execution_count": null,
   "metadata": {},
   "outputs": [],
   "source": [
    "# Print the first 5 rows of the DataFrame to get an idea of what the dataset looks like\n",
    "data.head()"
   ]
  },
  {
   "cell_type": "code",
   "execution_count": null,
   "metadata": {},
   "outputs": [],
   "source": [
    "# Check if there are any duplicate entries\n",
    "dup_rows = data[data.duplicated()]\n",
    "print(\"The number of duplicated rows is\", dup_rows)"
   ]
  },
  {
   "cell_type": "code",
   "execution_count": null,
   "metadata": {},
   "outputs": [],
   "source": [
    "# This cell willl first find the cells in CpuMHz that have two numbers inside the cell instead of one, and will remove them.\n",
    "# The second step will be to turn the Dtype of this column from object to int-64 to be used for the later calculations\n",
    "\n",
    "# Define a custom function to check for two values separated by a space\n",
    "def has_two_values(cell):\n",
    "    if isinstance(cell, str) and ' ' in cell:\n",
    "        values = cell.split()\n",
    "        if len(values) == 2 and all(value.isdigit() for value in values):\n",
    "            return True\n",
    "    return False\n",
    "\n",
    "# Apply the custom function to the 'CPU' column\n",
    "cpu_contains_two_values = data[data['CpuMHz'].apply(has_two_values)]\n",
    "\n",
    "# Print the rows where 'CPU' contains two objects\n",
    "print(cpu_contains_two_values)\n",
    "\n",
    "data.drop(data.loc[data['CpuMHz'].str.contains(' ') == True].index, inplace=True)\n",
    "data['CpuMHz'] = data['CpuMHz'].astype(np.int64)"
   ]
  },
  {
   "cell_type": "code",
   "execution_count": null,
   "metadata": {},
   "outputs": [],
   "source": [
    "# Print the new general information to also check the changed Dtype of CpuMHz from onject to int-64\n",
    "data.info()"
   ]
  },
  {
   "cell_type": "code",
   "execution_count": null,
   "metadata": {},
   "outputs": [],
   "source": [
    "# Similarly to CpuMHz, two numbers inside cells were found in the column MemoryMB. The 70 rows containing these cells are then removed\n",
    "# The types of both MemoryMB and NumCpu are then alsso changed to int-64\n",
    "\n",
    "# Define a custom function to check for two values separated by a space\n",
    "def has_two_values(cell):\n",
    "    if isinstance(cell, str) and ' ' in cell:\n",
    "        values = cell.split()\n",
    "        if len(values) == 2 and all(value.isdigit() for value in values):\n",
    "            return True\n",
    "    return False\n",
    "\n",
    "# Apply the custom function to the 'CPU' column\n",
    "memorymb_contains_two_values = data[data['MemoryMB'].apply(has_two_values)]\n",
    "\n",
    "# Print the rows where 'CPU' contains two objects\n",
    "print(memorymb_contains_two_values)\n",
    "\n",
    "data.drop(data.loc[data['MemoryMB'].str.contains(' ') == True].index, inplace=True)\n",
    "data['MemoryMB'] = data['MemoryMB'].astype(np.int64)\n",
    "data['NumCpu'] = data['NumCpu'].astype(np.int64)\n",
    "\n"
   ]
  },
  {
   "cell_type": "code",
   "execution_count": null,
   "metadata": {},
   "outputs": [],
   "source": [
    "# Print the new general information to also check the changed Dtype of MemoryMB and NumCpu from onject to int-64\n",
    "data.info()"
   ]
  },
  {
   "cell_type": "code",
   "execution_count": null,
   "metadata": {},
   "outputs": [],
   "source": [
    "data.loc[(data['MetricId'] == 'MemActive')].describe()"
   ]
  },
  {
   "cell_type": "code",
   "execution_count": null,
   "metadata": {},
   "outputs": [],
   "source": [
    "data.loc[(data['MetricId'] == 'CpuUsageMHz')].describe()"
   ]
  },
  {
   "cell_type": "code",
   "execution_count": null,
   "metadata": {},
   "outputs": [],
   "source": [
    "boxplot = data.loc[(data['MetricId'] == 'CpuUsageMHz')].boxplot(column=['MaxValue'], vert=False)"
   ]
  },
  {
   "cell_type": "code",
   "execution_count": null,
   "metadata": {},
   "outputs": [],
   "source": [
    "plt.show()"
   ]
  },
  {
   "cell_type": "code",
   "execution_count": null,
   "metadata": {},
   "outputs": [],
   "source": [
    "sns.countplot(x = data.loc[(data['AvgValue'] > 0.8 * data['CpuMHz']) & (data['MetricId'] == 'CpuUsageMHz')].groupby(['IPC']).size())\n",
    "plt.xlabel(\"Number of times upper limit has been surpassed\", size = 14, labelpad=14)\n",
    "plt.ylabel(\"Number of IPC's\", size=14, labelpad=14)\n",
    "plt.tick_params(axis='x', labelsize=6)\n",
    "plt.tick_params(axis='y', labelsize=13)\n",
    "\n",
    "plt.autoscale(enable=True, axis='x', tight=True)\n",
    "plt.show()"
   ]
  },
  {
   "cell_type": "code",
   "execution_count": 6,
   "metadata": {},
   "outputs": [
    {
     "data": {
      "text/html": [
       "<div>\n",
       "<style scoped>\n",
       "    .dataframe tbody tr th:only-of-type {\n",
       "        vertical-align: middle;\n",
       "    }\n",
       "\n",
       "    .dataframe tbody tr th {\n",
       "        vertical-align: top;\n",
       "    }\n",
       "\n",
       "    .dataframe thead th {\n",
       "        text-align: right;\n",
       "    }\n",
       "</style>\n",
       "<table border=\"1\" class=\"dataframe\">\n",
       "  <thead>\n",
       "    <tr style=\"text-align: right;\">\n",
       "      <th></th>\n",
       "      <th>IPC</th>\n",
       "      <th>Data Factory</th>\n",
       "      <th>time</th>\n",
       "      <th>AvgValue</th>\n",
       "      <th>MinValue</th>\n",
       "      <th>MaxValue</th>\n",
       "      <th>MetricId</th>\n",
       "      <th>MemoryMB</th>\n",
       "      <th>CpuMHz</th>\n",
       "      <th>NumCpu</th>\n",
       "    </tr>\n",
       "  </thead>\n",
       "  <tbody>\n",
       "    <tr>\n",
       "      <th>1</th>\n",
       "      <td>ITLT4301</td>\n",
       "      <td>1</td>\n",
       "      <td>01/05/2021</td>\n",
       "      <td>9894437496</td>\n",
       "      <td>2934354523</td>\n",
       "      <td>6730675687</td>\n",
       "      <td>CpuUsageMHz</td>\n",
       "      <td>0</td>\n",
       "      <td>5600</td>\n",
       "      <td>2</td>\n",
       "    </tr>\n",
       "    <tr>\n",
       "      <th>3</th>\n",
       "      <td>ITLT4301</td>\n",
       "      <td>1</td>\n",
       "      <td>02/05/2021</td>\n",
       "      <td>1146709829</td>\n",
       "      <td>3026053102</td>\n",
       "      <td>840875968</td>\n",
       "      <td>CpuUsageMHz</td>\n",
       "      <td>0</td>\n",
       "      <td>5600</td>\n",
       "      <td>2</td>\n",
       "    </tr>\n",
       "    <tr>\n",
       "      <th>5</th>\n",
       "      <td>ITLT4301</td>\n",
       "      <td>1</td>\n",
       "      <td>03/05/2021</td>\n",
       "      <td>1210612276</td>\n",
       "      <td>3209450259</td>\n",
       "      <td>9068989447</td>\n",
       "      <td>CpuUsageMHz</td>\n",
       "      <td>0</td>\n",
       "      <td>5600</td>\n",
       "      <td>2</td>\n",
       "    </tr>\n",
       "    <tr>\n",
       "      <th>7</th>\n",
       "      <td>ITLT4301</td>\n",
       "      <td>1</td>\n",
       "      <td>04/05/2021</td>\n",
       "      <td>119882602</td>\n",
       "      <td>3392847417</td>\n",
       "      <td>6904902987</td>\n",
       "      <td>CpuUsageMHz</td>\n",
       "      <td>0</td>\n",
       "      <td>5600</td>\n",
       "      <td>2</td>\n",
       "    </tr>\n",
       "    <tr>\n",
       "      <th>9</th>\n",
       "      <td>ITLT4301</td>\n",
       "      <td>1</td>\n",
       "      <td>05/05/2021</td>\n",
       "      <td>1252555738</td>\n",
       "      <td>3576244575</td>\n",
       "      <td>728086716</td>\n",
       "      <td>CpuUsageMHz</td>\n",
       "      <td>0</td>\n",
       "      <td>5600</td>\n",
       "      <td>2</td>\n",
       "    </tr>\n",
       "  </tbody>\n",
       "</table>\n",
       "</div>"
      ],
      "text/plain": [
       "        IPC  Data Factory        time    AvgValue    MinValue    MaxValue  \\\n",
       "1  ITLT4301             1  01/05/2021  9894437496  2934354523  6730675687   \n",
       "3  ITLT4301             1  02/05/2021  1146709829  3026053102   840875968   \n",
       "5  ITLT4301             1  03/05/2021  1210612276  3209450259  9068989447   \n",
       "7  ITLT4301             1  04/05/2021   119882602  3392847417  6904902987   \n",
       "9  ITLT4301             1  05/05/2021  1252555738  3576244575   728086716   \n",
       "\n",
       "      MetricId  MemoryMB  CpuMHz  NumCpu  \n",
       "1  CpuUsageMHz         0    5600       2  \n",
       "3  CpuUsageMHz         0    5600       2  \n",
       "5  CpuUsageMHz         0    5600       2  \n",
       "7  CpuUsageMHz         0    5600       2  \n",
       "9  CpuUsageMHz         0    5600       2  "
      ]
     },
     "execution_count": 6,
     "metadata": {},
     "output_type": "execute_result"
    }
   ],
   "source": [
    "cpuData = data.loc[(data['MetricId'] == 'CpuUsageMHz' )].copy()\n",
    "cpuData.head()"
   ]
  },
  {
   "cell_type": "code",
   "execution_count": 11,
   "metadata": {},
   "outputs": [
    {
     "name": "stdout",
     "output_type": "stream",
     "text": [
      "IPC 67819 is using less than 20% of its CPU capacity.\n",
      "IPC 157569 is using less than 20% of its CPU capacity.\n",
      "IPC 294805 is using less than 20% of its CPU capacity.\n"
     ]
    }
   ],
   "source": [
    "for index, row in cpuData.iterrows():\n",
    "    max_possible_cpu_utilization = row['NumCpu'] * row['CpuMHz']\n",
    "    actual_cpu_utilization = (row['MaxValue'] / max_possible_cpu_utilization) * 100\n",
    "    \n",
    "    if actual_cpu_utilization < 70:\n",
    "        print(f\"IPC {index} is using less than 20% of its CPU capacity.\")"
   ]
  },
  {
   "cell_type": "code",
   "execution_count": null,
   "metadata": {},
   "outputs": [],
   "source": [
    "cpuData['Oversized'] = 0\n",
    "cpuData.loc[cpuData.MaxValue <= 0.5 * cpuData.CpuMHz ,'Oversized']= 1"
   ]
  },
  {
   "cell_type": "code",
   "execution_count": null,
   "metadata": {},
   "outputs": [],
   "source": [
    "Oversized = cpuData.groupby(['IPC']).agg({'Oversized': ['count', 'sum']})\n",
    "Oversized.columns = ['IPC', 'Oversized']\n",
    "Oversized['RecommendForDownscale'] = 0\n",
    "Oversized.loc[Oversized.IPC == Oversized.Oversized, 'RecommendForDownscale'] = 1\n",
    "Oversized"
   ]
  },
  {
   "cell_type": "code",
   "execution_count": null,
   "metadata": {},
   "outputs": [],
   "source": [
    "Oversized['RecommendForDownscale'].to_csv('C:/Users/User/Desktop/Itility Test Case/RecommendForDownscale.csv')"
   ]
  }
 ],
 "metadata": {
  "kernelspec": {
   "display_name": "Python 3",
   "language": "python",
   "name": "python3"
  },
  "language_info": {
   "codemirror_mode": {
    "name": "ipython",
    "version": 3
   },
   "file_extension": ".py",
   "mimetype": "text/x-python",
   "name": "python",
   "nbconvert_exporter": "python",
   "pygments_lexer": "ipython3",
   "version": "3.10.7"
  },
  "orig_nbformat": 4
 },
 "nbformat": 4,
 "nbformat_minor": 2
}
